{
 "cells": [
  {
   "cell_type": "markdown",
   "id": "d954e8dc",
   "metadata": {},
   "source": [
    "### SET\n",
    "       by-SANCHI SINGHAL"
   ]
  },
  {
   "cell_type": "markdown",
   "id": "4460bfc7",
   "metadata": {},
   "source": [
    "1. collection of unordered items.\n",
    "2. each element is unique,immutable.\n",
    "3. has no duplicate elements but at the time of creation, duplicate elements can be passed.\n",
    "4. mutable\n",
    "5. order is undefined(unindexed).\n",
    "6. can't access element of set by index.\n",
    "7. <class 'set'>\n",
    "8. can't have mutable items like lists or dictionaries.\n",
    "9. contain elements of different types.\n",
    "10. Function call: set.fun_name() except len,type,del\n",
    "11. doesn't support item assignment."
   ]
  },
  {
   "cell_type": "markdown",
   "id": "f94e9505",
   "metadata": {},
   "source": [
    "#### Creation of empty set\n",
    "using set()<br>\n",
    "\n",
    "({} will not create an empty set, it will create an empty dictionary)."
   ]
  },
  {
   "cell_type": "code",
   "execution_count": 1,
   "id": "0af42df9",
   "metadata": {},
   "outputs": [
    {
     "name": "stdout",
     "output_type": "stream",
     "text": [
      "set()\n",
      "<class 'set'>\n"
     ]
    }
   ],
   "source": [
    "s=set()\n",
    "print(s)\n",
    "print(type(s))"
   ]
  },
  {
   "cell_type": "markdown",
   "id": "bfff8a67",
   "metadata": {},
   "source": [
    "#### Creation of set:\n",
    "1. using set() constructor\n",
    "2. using curly braces"
   ]
  },
  {
   "cell_type": "code",
   "execution_count": 2,
   "id": "5c131e94",
   "metadata": {},
   "outputs": [
    {
     "name": "stdout",
     "output_type": "stream",
     "text": [
      "{'a', 2, 1} {1, 'hii'}\n"
     ]
    }
   ],
   "source": [
    "s=set([\"a\",1,2])\n",
    "p={1,\"hii\"}\n",
    "print(s,p)"
   ]
  },
  {
   "cell_type": "markdown",
   "id": "65822953",
   "metadata": {},
   "source": [
    "#### Typecasting objects into sets:\n",
    "using set(object)"
   ]
  },
  {
   "cell_type": "code",
   "execution_count": 3,
   "id": "3e2ab31f",
   "metadata": {},
   "outputs": [
    {
     "name": "stdout",
     "output_type": "stream",
     "text": [
      "{'i', 'h'}\n",
      "{2, 3, 5}\n",
      "{1, 3}\n"
     ]
    }
   ],
   "source": [
    "print(set(\"hiiii\"))\n",
    "print(set([2,3,5]))\n",
    "print(set({1:2,3:4}))  #in case of dictionary key values are converted to a set"
   ]
  },
  {
   "cell_type": "markdown",
   "id": "db28064d",
   "metadata": {},
   "source": [
    "#### Length of a set:\n",
    "using len()"
   ]
  },
  {
   "cell_type": "code",
   "execution_count": 4,
   "id": "92fff54d",
   "metadata": {},
   "outputs": [
    {
     "name": "stdout",
     "output_type": "stream",
     "text": [
      "3\n"
     ]
    }
   ],
   "source": [
    "myset={\"hii\",2,\"5\"}\n",
    "print(len(myset))"
   ]
  },
  {
   "cell_type": "markdown",
   "id": "b8adf155",
   "metadata": {},
   "source": [
    "#### type():\n",
    "sets are defined as objects with the data type set."
   ]
  },
  {
   "cell_type": "code",
   "execution_count": 5,
   "id": "7c9528bd",
   "metadata": {},
   "outputs": [
    {
     "name": "stdout",
     "output_type": "stream",
     "text": [
      "<class 'set'>\n"
     ]
    }
   ],
   "source": [
    "s={\"2\",3,4}\n",
    "print(type(s))"
   ]
  },
  {
   "cell_type": "markdown",
   "id": "5ac363cc",
   "metadata": {},
   "source": [
    "#### Accessing a set:\n",
    "can't acces using index, can only be accessed using loop or ask if a specified value is present in a set by using the \"in\" keyword."
   ]
  },
  {
   "cell_type": "code",
   "execution_count": 6,
   "id": "05d78362",
   "metadata": {},
   "outputs": [
    {
     "name": "stdout",
     "output_type": "stream",
     "text": [
      "1 2 3 4 \n",
      "True\n"
     ]
    }
   ],
   "source": [
    "myset={1,2,3,4}\n",
    "for i in myset:\n",
    "    print(i,end=\" \")\n",
    "print()\n",
    "print(1 in myset)"
   ]
  },
  {
   "cell_type": "markdown",
   "id": "36de3a3c",
   "metadata": {},
   "source": [
    "#### Change items\n",
    "Once a set is created, you cannot change its items, but you can add new items.\n",
    "#### Item assignment\n",
    "Dont support"
   ]
  },
  {
   "cell_type": "code",
   "execution_count": 7,
   "id": "4bd7f862",
   "metadata": {},
   "outputs": [
    {
     "ename": "TypeError",
     "evalue": "'set' object does not support item assignment",
     "output_type": "error",
     "traceback": [
      "\u001b[1;31m---------------------------------------------------------------------------\u001b[0m",
      "\u001b[1;31mTypeError\u001b[0m                                 Traceback (most recent call last)",
      "\u001b[1;32m<ipython-input-7-8bc1492e6209>\u001b[0m in \u001b[0;36m<module>\u001b[1;34m\u001b[0m\n\u001b[0;32m      1\u001b[0m \u001b[0mmy\u001b[0m\u001b[1;33m=\u001b[0m\u001b[1;33m{\u001b[0m\u001b[1;36m1\u001b[0m\u001b[1;33m,\u001b[0m\u001b[1;36m2\u001b[0m\u001b[1;33m,\u001b[0m\u001b[1;36m3\u001b[0m\u001b[1;33m,\u001b[0m\u001b[1;36m4\u001b[0m\u001b[1;33m}\u001b[0m\u001b[1;33m\u001b[0m\u001b[1;33m\u001b[0m\u001b[0m\n\u001b[1;32m----> 2\u001b[1;33m \u001b[0mmy\u001b[0m\u001b[1;33m[\u001b[0m\u001b[1;36m2\u001b[0m\u001b[1;33m]\u001b[0m\u001b[1;33m=\u001b[0m\u001b[1;36m5\u001b[0m\u001b[1;33m\u001b[0m\u001b[1;33m\u001b[0m\u001b[0m\n\u001b[0m\u001b[0;32m      3\u001b[0m \u001b[0mprint\u001b[0m\u001b[1;33m(\u001b[0m\u001b[0mmy\u001b[0m\u001b[1;33m)\u001b[0m\u001b[1;33m\u001b[0m\u001b[1;33m\u001b[0m\u001b[0m\n",
      "\u001b[1;31mTypeError\u001b[0m: 'set' object does not support item assignment"
     ]
    }
   ],
   "source": [
    "my={1,2,3,4}\n",
    "my[2]=5\n",
    "print(my)"
   ]
  },
  {
   "cell_type": "markdown",
   "id": "d909e298",
   "metadata": {},
   "source": [
    "#### Adding items\n",
    "1. add(element):\n",
    "    only one element can be added at a time., cant add list or dictionary as they are mutable<br>\n",
    "    (use loops to add more than one element)\n",
    "2. update(iterables):\n",
    "    to add two or more elements, accepts lists,strings,tuples as well as other sets."
   ]
  },
  {
   "cell_type": "code",
   "execution_count": 8,
   "id": "e23cfb8c",
   "metadata": {},
   "outputs": [
    {
     "name": "stdout",
     "output_type": "stream",
     "text": [
      "{1, 2, 3, 4, 5}\n",
      "{1, 2, 3, 4, 5, 6, 7}\n"
     ]
    }
   ],
   "source": [
    "myset={1,2,3,4}\n",
    "myset.add(5)\n",
    "print(myset)\n",
    "myset.update([6,7],{5,6},(2,3))# duplicate elements are automatically removed from set.\n",
    "print(myset)"
   ]
  },
  {
   "cell_type": "markdown",
   "id": "07f8a032",
   "metadata": {},
   "source": [
    "#### Removing items:\n",
    "(only pop() returns some value)\n",
    "\n",
    "\n",
    "1. remove(element):<br>\n",
    "to remove specified element from the given set.<br>\n",
    "KeyError raises if the element doesn't exist in the set.<br>\n",
    "2. discard(element):<br>\n",
    "to remove specified element from the given input set.<br>\n",
    "If the element doesn't exist in the set, it remains unchanged.<br>\n",
    "3. pop():<br>\n",
    "removes and returns a random element from the set.<br>\n",
    "4. clear():<br>\n",
    "empties the set.<br>\n",
    "5. del:<br> delete the set completely.<br>\n",
    "will show that the set is not defined<br>"
   ]
  },
  {
   "cell_type": "code",
   "execution_count": 9,
   "id": "cae60b28",
   "metadata": {},
   "outputs": [
    {
     "name": "stdout",
     "output_type": "stream",
     "text": [
      "{1, 2, 3, 4, 5, 6, 8}\n",
      "{1, 2, 3, 4, 5, 8}\n",
      "{1, 2, 3, 4, 5, 8}\n",
      "1\n",
      "{2, 3, 4, 5, 8}\n",
      "set()\n"
     ]
    },
    {
     "ename": "NameError",
     "evalue": "name 'myset' is not defined",
     "output_type": "error",
     "traceback": [
      "\u001b[1;31m---------------------------------------------------------------------------\u001b[0m",
      "\u001b[1;31mNameError\u001b[0m                                 Traceback (most recent call last)",
      "\u001b[1;32m<ipython-input-9-9c31aeea5bfa>\u001b[0m in \u001b[0;36m<module>\u001b[1;34m\u001b[0m\n\u001b[0;32m     10\u001b[0m \u001b[0mprint\u001b[0m\u001b[1;33m(\u001b[0m\u001b[0mmyset\u001b[0m\u001b[1;33m)\u001b[0m\u001b[1;33m\u001b[0m\u001b[1;33m\u001b[0m\u001b[0m\n\u001b[0;32m     11\u001b[0m \u001b[1;32mdel\u001b[0m \u001b[0mmyset\u001b[0m\u001b[1;33m\u001b[0m\u001b[1;33m\u001b[0m\u001b[0m\n\u001b[1;32m---> 12\u001b[1;33m \u001b[0mprint\u001b[0m\u001b[1;33m(\u001b[0m\u001b[0mmyset\u001b[0m\u001b[1;33m)\u001b[0m\u001b[1;33m\u001b[0m\u001b[1;33m\u001b[0m\u001b[0m\n\u001b[0m",
      "\u001b[1;31mNameError\u001b[0m: name 'myset' is not defined"
     ]
    }
   ],
   "source": [
    "myset={1,2,3,4,5,6,8}\n",
    "print(myset)\n",
    "myset.remove(6)\n",
    "print(myset)\n",
    "myset.discard(9)   # 9 not present no change in set if used remove() KeyError.\n",
    "print(myset)\n",
    "print(myset.pop())\n",
    "print(myset)\n",
    "myset.clear()\n",
    "print(myset)\n",
    "del myset\n",
    "print(myset)"
   ]
  },
  {
   "cell_type": "markdown",
   "id": "1c12a202",
   "metadata": {},
   "source": [
    "#### Copying set:\n",
    "1. =: returns deep copy(change in copy will change original set)<br>\n",
    "2. copy() or set(set_name): returns shallow copy(change in copy will not change original set)"
   ]
  },
  {
   "cell_type": "code",
   "execution_count": 10,
   "id": "697d7617",
   "metadata": {},
   "outputs": [
    {
     "name": "stdout",
     "output_type": "stream",
     "text": [
      "{1, 2, 3}\n",
      "{1, 2, 3, 4}\n",
      "{1, 2, 3, 4}\n",
      "{1, 2, 3, 4}\n",
      "{1, 2, 3, 4, 5}\n",
      "{1, 2, 3, 4}\n",
      "{1, 2, 3, 4}\n"
     ]
    }
   ],
   "source": [
    "s1={1,2,3}\n",
    "s2=s1\n",
    "print(s2)\n",
    "s2.add(4)\n",
    "print(s2)\n",
    "print(s1)\n",
    "s3=s1.copy()\n",
    "print(s3)\n",
    "s3.add(5)\n",
    "print(s3)\n",
    "print(s1)\n",
    "print(s2)"
   ]
  },
  {
   "cell_type": "code",
   "execution_count": 11,
   "id": "285f81e2",
   "metadata": {},
   "outputs": [
    {
     "name": "stdout",
     "output_type": "stream",
     "text": [
      "{1, 2, 3}\n",
      "{1, 2, 3}\n"
     ]
    }
   ],
   "source": [
    "myset={1,2,3}\n",
    "s2=set(myset)\n",
    "print(s2)\n",
    "s2.add(4)\n",
    "print(myset)"
   ]
  },
  {
   "attachments": {
    "10.png": {
     "image/png": "[encoded data removed]"
    }
   },
   "cell_type": "markdown",
   "id": "55545c19",
   "metadata": {},
   "source": [
    "#### Operations on sets:\n",
    "![10.png](attachment:10.png)<br>\n",
    "using operators we can apply operations on more than two sets while it is not possible with the methods.<br>\n",
    "a set can also be directly passed as parameters in methods in () but before . set name must be passed.<br>\n",
    "using operator we can pass both set names or set directly.<br>"
   ]
  },
  {
   "cell_type": "markdown",
   "id": "36b9a66d",
   "metadata": {},
   "source": [
    "1.union(set) or | : returns the union of sets in a new set., will remove duplicate items.<br>"
   ]
  },
  {
   "cell_type": "code",
   "execution_count": 12,
   "id": "1643df87",
   "metadata": {},
   "outputs": [
    {
     "name": "stdout",
     "output_type": "stream",
     "text": [
      "{1, 2, 3, 4, 5}\n",
      "{1, 2, 3, 4, 5}\n"
     ]
    }
   ],
   "source": [
    "s1={1,2,3,4}\n",
    "s2={2,3,4,5}\n",
    "c=(s1|s2)\n",
    "print(c)\n",
    "print(s1.union(s2))"
   ]
  },
  {
   "cell_type": "markdown",
   "id": "cf59b57a",
   "metadata": {},
   "source": [
    "2. update(set) or |= : updates a set with the union of itself and other sets, will remove duplicate items.<br>\n",
    "    "
   ]
  },
  {
   "cell_type": "code",
   "execution_count": 13,
   "id": "bcb683da",
   "metadata": {},
   "outputs": [
    {
     "name": "stdout",
     "output_type": "stream",
     "text": [
      "{1, 2, 3, 4, 5}\n",
      "{3, 4, 5}\n"
     ]
    }
   ],
   "source": [
    "s1={1,2,3,4}\n",
    "s2={3,4,5}\n",
    "# s1.update(s2)\n",
    "s1|=s2\n",
    "print(s1)\n",
    "print(s2)"
   ]
  },
  {
   "cell_type": "markdown",
   "id": "9736b878",
   "metadata": {},
   "source": [
    "3. intersection(set) or & : returns the intersection of two sets as a new set.<br>"
   ]
  },
  {
   "cell_type": "code",
   "execution_count": 14,
   "id": "23a6cd68",
   "metadata": {},
   "outputs": [
    {
     "name": "stdout",
     "output_type": "stream",
     "text": [
      "{3} {3}\n"
     ]
    }
   ],
   "source": [
    "s1={1,2,3}\n",
    "s2={3,4,5}\n",
    "c=s1&s2\n",
    "d=s1.intersection(s2)\n",
    "print(c,d)"
   ]
  },
  {
   "cell_type": "markdown",
   "id": "f9a60fcd",
   "metadata": {},
   "source": [
    "4. intersection_update(set) or &= : updates the set with the intersection of itself and another set.,only contains the intersection elements in the original set.<br>"
   ]
  },
  {
   "cell_type": "code",
   "execution_count": 15,
   "id": "99d5a656",
   "metadata": {},
   "outputs": [
    {
     "name": "stdout",
     "output_type": "stream",
     "text": [
      "{2, 3, 4, 5}\n"
     ]
    }
   ],
   "source": [
    "s1={1,2,3,4,5}\n",
    "s2={5,4,3,2}\n",
    "s1&=s2\n",
    "# s1.intersection_update(s2)\n",
    "print(s1)"
   ]
  },
  {
   "cell_type": "markdown",
   "id": "d31ca08f",
   "metadata": {},
   "source": [
    "5. difference(set) or - :returns the difference of sets as a new set.<br>"
   ]
  },
  {
   "cell_type": "code",
   "execution_count": 16,
   "id": "761b3341",
   "metadata": {},
   "outputs": [
    {
     "name": "stdout",
     "output_type": "stream",
     "text": [
      "{2}\n",
      "{1, 2} {1, 2}\n"
     ]
    }
   ],
   "source": [
    "s1={1,2,3,4}\n",
    "s2={3,4,5}\n",
    "s3={6,1}\n",
    "print(s1-s2-s3)\n",
    "c=s1-s2\n",
    "d=s1.difference(s2)\n",
    "print(c,d)"
   ]
  },
  {
   "cell_type": "markdown",
   "id": "d66a1d80",
   "metadata": {},
   "source": [
    "6. difference_update(set) or -= : removes all elements of another set from this set., originals set only contains the difference of sets.<br>"
   ]
  },
  {
   "cell_type": "code",
   "execution_count": 17,
   "id": "56a54639",
   "metadata": {},
   "outputs": [
    {
     "name": "stdout",
     "output_type": "stream",
     "text": [
      "{1, 2, 3} {4, 5, 6, 7}\n",
      "None\n"
     ]
    }
   ],
   "source": [
    "s1={1,2,3,4}\n",
    "s2={4,5,6,7}\n",
    "s1-=s2\n",
    "s2.difference_update(s1)\n",
    "print(s1,s2)\n",
    "print(s2.difference_update(s1))  # will print None as it is not returning anything."
   ]
  },
  {
   "cell_type": "markdown",
   "id": "438b95ba",
   "metadata": {},
   "source": [
    "7. symmetric_difference(set) or ^ : returns the symmetric difference of two sets as a new set.<br>"
   ]
  },
  {
   "cell_type": "code",
   "execution_count": 18,
   "id": "a2e34ce5",
   "metadata": {},
   "outputs": [
    {
     "ename": "TypeError",
     "evalue": "symmetric_difference() takes exactly one argument (2 given)",
     "output_type": "error",
     "traceback": [
      "\u001b[1;31m---------------------------------------------------------------------------\u001b[0m",
      "\u001b[1;31mTypeError\u001b[0m                                 Traceback (most recent call last)",
      "\u001b[1;32m<ipython-input-18-abd37bbf1945>\u001b[0m in \u001b[0;36m<module>\u001b[1;34m\u001b[0m\n\u001b[0;32m      4\u001b[0m \u001b[0mc\u001b[0m\u001b[1;33m=\u001b[0m\u001b[0ms1\u001b[0m\u001b[1;33m^\u001b[0m\u001b[0ms2\u001b[0m\u001b[1;33m\u001b[0m\u001b[1;33m\u001b[0m\u001b[0m\n\u001b[0;32m      5\u001b[0m \u001b[0md\u001b[0m\u001b[1;33m=\u001b[0m\u001b[0ms1\u001b[0m\u001b[1;33m.\u001b[0m\u001b[0msymmetric_difference\u001b[0m\u001b[1;33m(\u001b[0m\u001b[0ms2\u001b[0m\u001b[1;33m)\u001b[0m\u001b[1;33m\u001b[0m\u001b[1;33m\u001b[0m\u001b[0m\n\u001b[1;32m----> 6\u001b[1;33m \u001b[0md\u001b[0m\u001b[1;33m=\u001b[0m\u001b[0ms1\u001b[0m\u001b[1;33m.\u001b[0m\u001b[0msymmetric_difference\u001b[0m\u001b[1;33m(\u001b[0m\u001b[0ms2\u001b[0m\u001b[1;33m,\u001b[0m\u001b[0ms3\u001b[0m\u001b[1;33m)\u001b[0m \u001b[1;31m#error only one argument can be passed.\u001b[0m\u001b[1;33m\u001b[0m\u001b[1;33m\u001b[0m\u001b[0m\n\u001b[0m\u001b[0;32m      7\u001b[0m \u001b[0mprint\u001b[0m\u001b[1;33m(\u001b[0m\u001b[0mc\u001b[0m\u001b[1;33m,\u001b[0m\u001b[0md\u001b[0m\u001b[1;33m)\u001b[0m\u001b[1;33m\u001b[0m\u001b[1;33m\u001b[0m\u001b[0m\n",
      "\u001b[1;31mTypeError\u001b[0m: symmetric_difference() takes exactly one argument (2 given)"
     ]
    }
   ],
   "source": [
    "s1={1,2,3,4}\n",
    "s2={4,5,6,7}\n",
    "s3={7,4,5}\n",
    "c=s1^s2\n",
    "d=s1.symmetric_difference(s2)\n",
    "d=s1.symmetric_difference(s2,s3) #error only one argument can be passed.\n",
    "print(c,d)"
   ]
  },
  {
   "cell_type": "markdown",
   "id": "81643fc2",
   "metadata": {},
   "source": [
    "8. symmetric_difference_update(set_name) or ^= : updates a set with the symmetric difference of itself and other sets, the original set will only contain the symmetric difference of the sets.<br>"
   ]
  },
  {
   "cell_type": "code",
   "execution_count": 19,
   "id": "434b614d",
   "metadata": {},
   "outputs": [
    {
     "name": "stdout",
     "output_type": "stream",
     "text": [
      "{1, 2, 4, 6}\n"
     ]
    }
   ],
   "source": [
    "s1={1,2,3,5}\n",
    "s2={3,4,5,6}\n",
    "# s1^=s2\n",
    "s1.symmetric_difference_update(s2)\n",
    "print(s1)"
   ]
  },
  {
   "cell_type": "markdown",
   "id": "87788667",
   "metadata": {},
   "source": [
    "9. isdijoint(set) : returns True if two sets have a null intersection<br>"
   ]
  },
  {
   "cell_type": "code",
   "execution_count": 20,
   "id": "eecc5e1d",
   "metadata": {},
   "outputs": [
    {
     "name": "stdout",
     "output_type": "stream",
     "text": [
      "False\n"
     ]
    }
   ],
   "source": [
    "myset={1,2,3}\n",
    "print(myset.isdisjoint({1,3}))"
   ]
  },
  {
   "cell_type": "markdown",
   "id": "82b09f9f",
   "metadata": {},
   "source": [
    "10. issubset(set) or <= : returns True if another set contains this set.<br>"
   ]
  },
  {
   "cell_type": "code",
   "execution_count": 21,
   "id": "20d32297",
   "metadata": {},
   "outputs": [
    {
     "name": "stdout",
     "output_type": "stream",
     "text": [
      "True\n",
      "True\n"
     ]
    }
   ],
   "source": [
    "print({1,2,3}<={1,2,3,4})\n",
    "s1={1,2,3}\n",
    "print(s1.issubset({1,2,3,4}))"
   ]
  },
  {
   "cell_type": "markdown",
   "id": "c551a192",
   "metadata": {},
   "source": [
    "11. issuperset() or >= : returns True if this set contains another set.<br>"
   ]
  },
  {
   "cell_type": "code",
   "execution_count": 22,
   "id": "97c406fa",
   "metadata": {},
   "outputs": [
    {
     "name": "stdout",
     "output_type": "stream",
     "text": [
      "True\n"
     ]
    }
   ],
   "source": [
    "print({1,2,3,4}>={1,2,3,4})"
   ]
  },
  {
   "cell_type": "markdown",
   "id": "5746ec46",
   "metadata": {},
   "source": [
    "12. Proper Subset: <  <br>\n",
    "13. Proper Superset: > <br>"
   ]
  },
  {
   "cell_type": "code",
   "execution_count": 23,
   "id": "63823d08",
   "metadata": {},
   "outputs": [
    {
     "name": "stdout",
     "output_type": "stream",
     "text": [
      "False\n",
      "False\n",
      "True\n",
      "False\n"
     ]
    }
   ],
   "source": [
    "print({1,2,2}<{1,2,})\n",
    "print({1,2,3}<{1,4,5})\n",
    "print({1,2,3}<{1,2,3,4})\n",
    "print({1,2,3}>{1,2,3,4})"
   ]
  },
  {
   "cell_type": "markdown",
   "id": "32e35be5",
   "metadata": {},
   "source": [
    "### FROZENSET"
   ]
  },
  {
   "attachments": {
    "1.png": {
     "image/png": "[encoded data removed]"
    }
   },
   "cell_type": "markdown",
   "id": "163f73bd",
   "metadata": {},
   "source": [
    "1. it creates an immutble set object from iterable.\n",
    "2. built-in function.\n",
    "3. O/P: frozenset(values)\n",
    "![1.png](attachment:1.png)\n",
    "If no parameters are passed to frozenset(), then it returns an empty frozentype object."
   ]
  },
  {
   "cell_type": "code",
   "execution_count": 24,
   "id": "790fec42",
   "metadata": {},
   "outputs": [
    {
     "data": {
      "text/plain": [
       "frozenset"
      ]
     },
     "execution_count": 24,
     "metadata": {},
     "output_type": "execute_result"
    }
   ],
   "source": [
    "type(frozenset())"
   ]
  },
  {
   "cell_type": "code",
   "execution_count": 25,
   "id": "f1ef92f4",
   "metadata": {},
   "outputs": [
    {
     "name": "stdout",
     "output_type": "stream",
     "text": [
      "frozenset()\n",
      "frozenset({1, 2, 3})\n",
      "frozenset({1, 2, 3})\n",
      "frozenset({1, 3, 5})\n"
     ]
    }
   ],
   "source": [
    "print(frozenset())\n",
    "print(frozenset((1,2,3)))\n",
    "print(frozenset([1,2,3]))\n",
    "print(frozenset({1:2,3:4,5:6}))"
   ]
  },
  {
   "cell_type": "markdown",
   "id": "261f9b74",
   "metadata": {},
   "source": [
    "#### Operations on Frozenset:\n",
    "All the set operations can be applied to the frozenset.<br> del and copy() also works with frozenset.<br>"
   ]
  },
  {
   "cell_type": "code",
   "execution_count": 26,
   "id": "3d4b8b3f",
   "metadata": {},
   "outputs": [
    {
     "name": "stdout",
     "output_type": "stream",
     "text": [
      "frozenset({1, 2, 3, 4})\n",
      "frozenset({1, 2, 3, 4, 5, 6})\n",
      "frozenset({1, 2, 3, 4, 5, 6})\n",
      "frozenset({3, 4, 5, 6})\n"
     ]
    }
   ],
   "source": [
    "my={1,2,3,4}\n",
    "s1={3,4,5,6}\n",
    "s=frozenset(my)\n",
    "print(s)\n",
    "print(s|s1)\n",
    "s|=s1\n",
    "print(s)\n",
    "print(s&s1)"
   ]
  },
  {
   "cell_type": "markdown",
   "id": "174b171d",
   "metadata": {},
   "source": [
    "There are certain methods which frozenset doesn't supports.<br>"
   ]
  },
  {
   "cell_type": "code",
   "execution_count": 27,
   "id": "1f778488",
   "metadata": {},
   "outputs": [
    {
     "name": "stdout",
     "output_type": "stream",
     "text": [
      "frozenset({1, 2, 3, 4})\n",
      "frozenset({1, 2, 3, 4})\n"
     ]
    },
    {
     "ename": "NameError",
     "evalue": "name 's1' is not defined",
     "output_type": "error",
     "traceback": [
      "\u001b[1;31m---------------------------------------------------------------------------\u001b[0m",
      "\u001b[1;31mNameError\u001b[0m                                 Traceback (most recent call last)",
      "\u001b[1;32m<ipython-input-27-89536d06fd12>\u001b[0m in \u001b[0;36m<module>\u001b[1;34m\u001b[0m\n\u001b[0;32m     11\u001b[0m \u001b[0mprint\u001b[0m\u001b[1;33m(\u001b[0m\u001b[0ms1\u001b[0m\u001b[1;33m)\u001b[0m\u001b[1;33m\u001b[0m\u001b[1;33m\u001b[0m\u001b[0m\n\u001b[0;32m     12\u001b[0m \u001b[1;32mdel\u001b[0m \u001b[0ms1\u001b[0m\u001b[1;33m\u001b[0m\u001b[1;33m\u001b[0m\u001b[0m\n\u001b[1;32m---> 13\u001b[1;33m \u001b[0mprint\u001b[0m\u001b[1;33m(\u001b[0m\u001b[0ms1\u001b[0m\u001b[1;33m)\u001b[0m\u001b[1;33m\u001b[0m\u001b[1;33m\u001b[0m\u001b[0m\n\u001b[0m",
      "\u001b[1;31mNameError\u001b[0m: name 's1' is not defined"
     ]
    }
   ],
   "source": [
    "my={1,2,3,4}\n",
    "s=frozenset(my)\n",
    "print(s)\n",
    "# s.update(2)\n",
    "# s.add(2)\n",
    "# s.remove(2)\n",
    "# s.discard(2)\n",
    "# s.clear()\n",
    "# s.pop()\n",
    "s1=s.copy()\n",
    "print(s1)\n",
    "del s1\n",
    "print(s1)"
   ]
  },
  {
   "cell_type": "code",
   "execution_count": null,
   "id": "cee0a690",
   "metadata": {},
   "outputs": [],
   "source": []
  },
  {
   "cell_type": "code",
   "execution_count": null,
   "id": "4a953754",
   "metadata": {},
   "outputs": [],
   "source": []
  },
  {
   "cell_type": "code",
   "execution_count": null,
   "id": "f9900daf",
   "metadata": {},
   "outputs": [],
   "source": []
  }
 ],
 "metadata": {
  "kernelspec": {
   "display_name": "Python 3",
   "language": "python",
   "name": "python3"
  },
  "language_info": {
   "codemirror_mode": {
    "name": "ipython",
    "version": 3
   },
   "file_extension": ".py",
   "mimetype": "text/x-python",
   "name": "python",
   "nbconvert_exporter": "python",
   "pygments_lexer": "ipython3",
   "version": "3.8.8"
  }
 },
 "nbformat": 4,
 "nbformat_minor": 5
}
