{
 "cells": [
  {
   "cell_type": "markdown",
   "id": "f79be845",
   "metadata": {},
   "source": [
    "## DEQUE\n",
    "      BY-SANCHI SINGHAL"
   ]
  },
  {
   "cell_type": "markdown",
   "id": "6cdff7d2",
   "metadata": {},
   "source": [
    "1. part of collections library\n",
    "2. Doubly Ended Queue\n",
    "3. Preferred over list when need quicker append and pop from both ends.\n",
    "4. O(1) for append and pop while list takes O(n) for both append and pop.\n",
    "5. type: collection.deque"
   ]
  },
  {
   "cell_type": "markdown",
   "id": "e34bb7a7",
   "metadata": {},
   "source": [
    "#### Types of Restricted Deque Input\n",
    "1. Input Restricted Deque:  Input is limited at one end while deletion is permitted at both ends.\n",
    "2. Output Restricted Deque: output is limited at one end but insertion is permitted at both ends."
   ]
  },
  {
   "cell_type": "code",
   "execution_count": 9,
   "id": "24937b4c",
   "metadata": {},
   "outputs": [],
   "source": [
    "# importing deque\n",
    "from collections import deque"
   ]
  },
  {
   "cell_type": "markdown",
   "id": "474c3241",
   "metadata": {},
   "source": [
    "#### Creation of deque:\n",
    "Syntax: deque([iterable],maxlen=n)<br>\n",
    "output: deque([iterable])\n",
    "1. returns a new deque object with data from iterable.\n",
    "2. if iterable is not specified, the new deque is empty.\n",
    "3. if len>maxlen: last maxlen elements are in deque(from right side),elements can be appended by removing one leftmost element,on popping no previous elements are added by itself."
   ]
  },
  {
   "cell_type": "code",
   "execution_count": 65,
   "id": "896898c4",
   "metadata": {},
   "outputs": [
    {
     "name": "stdout",
     "output_type": "stream",
     "text": [
      "list deque([1, 2, 3])\n",
      "tuple deque([1, 2, 3])\n",
      "set deque([1, 2, 3])\n",
      "dictionary deque([1, 3])\n",
      "<class 'collections.deque'>\n",
      "deque([])\n",
      "deque([2, 3, 4], maxlen=3)\n",
      "deque([3, 4, 2], maxlen=3)\n",
      "deque([3, 4], maxlen=3)\n"
     ]
    }
   ],
   "source": [
    "# creation\n",
    "m=deque([1,2,3]) #using list\n",
    "a=deque((1,2,3)) #using tuple\n",
    "b=deque({1,2,3}) #using set\n",
    "c=deque({1:2,3:4}) #using dictionary \n",
    "# in case of dictionary only key values are in deque\n",
    "print(\"list\",m)\n",
    "print(\"tuple\",a)\n",
    "print(\"set\",b)\n",
    "print(\"dictionary\",c)\n",
    "print(type(m))\n",
    "# empty deque\n",
    "n=deque()\n",
    "print(n)\n",
    "ss=deque([1,2,3,4],maxlen=3)\n",
    "print(ss)\n",
    "ss.append(2)\n",
    "print(ss)\n",
    "ss.pop()\n",
    "print(ss)"
   ]
  },
  {
   "cell_type": "markdown",
   "id": "f0177fc2",
   "metadata": {},
   "source": [
    "#### Appending"
   ]
  },
  {
   "cell_type": "markdown",
   "id": "1e4ad594",
   "metadata": {},
   "source": [
    "1. append():The data item is added to right side of deque\n",
    "2. appendleft():The data item is added to left side of deque using the"
   ]
  },
  {
   "cell_type": "code",
   "execution_count": 17,
   "id": "e30ec6ad",
   "metadata": {},
   "outputs": [
    {
     "name": "stdout",
     "output_type": "stream",
     "text": [
      "deque([1, 2, 3])\n",
      "deque([1, 2, 3, 4])\n",
      "deque([0, 1, 2, 3, 4])\n"
     ]
    }
   ],
   "source": [
    "m=[1,2,3]\n",
    "d=deque(m)\n",
    "print(d)\n",
    "d.append(4)\n",
    "print(d)\n",
    "d.appendleft(0)\n",
    "print(d)"
   ]
  },
  {
   "cell_type": "markdown",
   "id": "45ec575e",
   "metadata": {},
   "source": [
    "#### Popping\n",
    "gives error if deque is empty.\n",
    "1. pop():The data item is removed and returned from right side of deque\n",
    "2. popleft():The data item is removed and returned from left side of deque."
   ]
  },
  {
   "cell_type": "code",
   "execution_count": 45,
   "id": "fd150af6",
   "metadata": {},
   "outputs": [
    {
     "name": "stdout",
     "output_type": "stream",
     "text": [
      "deque([1, 2, 3])\n",
      "3\n",
      "deque([1, 2])\n",
      "1\n",
      "deque([2])\n",
      "deque([])\n"
     ]
    },
    {
     "ename": "IndexError",
     "evalue": "pop from an empty deque",
     "output_type": "error",
     "traceback": [
      "\u001b[1;31m---------------------------------------------------------------------------\u001b[0m",
      "\u001b[1;31mIndexError\u001b[0m                                Traceback (most recent call last)",
      "\u001b[1;32m<ipython-input-45-1a5a35321517>\u001b[0m in \u001b[0;36m<module>\u001b[1;34m\u001b[0m\n\u001b[0;32m      8\u001b[0m \u001b[0ms\u001b[0m\u001b[1;33m=\u001b[0m\u001b[0mdeque\u001b[0m\u001b[1;33m(\u001b[0m\u001b[1;33m)\u001b[0m\u001b[1;33m\u001b[0m\u001b[1;33m\u001b[0m\u001b[0m\n\u001b[0;32m      9\u001b[0m \u001b[0mprint\u001b[0m\u001b[1;33m(\u001b[0m\u001b[0ms\u001b[0m\u001b[1;33m)\u001b[0m\u001b[1;33m\u001b[0m\u001b[1;33m\u001b[0m\u001b[0m\n\u001b[1;32m---> 10\u001b[1;33m \u001b[0ms\u001b[0m\u001b[1;33m.\u001b[0m\u001b[0mpopleft\u001b[0m\u001b[1;33m(\u001b[0m\u001b[1;33m)\u001b[0m    \u001b[1;31m#error\u001b[0m\u001b[1;33m\u001b[0m\u001b[1;33m\u001b[0m\u001b[0m\n\u001b[0m",
      "\u001b[1;31mIndexError\u001b[0m: pop from an empty deque"
     ]
    }
   ],
   "source": [
    "m=[1,2,3]\n",
    "d=deque(m)\n",
    "print(d)\n",
    "print(d.pop())\n",
    "print(d)\n",
    "print(d.popleft())\n",
    "print(d)\n",
    "s=deque()\n",
    "print(s)\n",
    "s.popleft()    #error"
   ]
  },
  {
   "cell_type": "markdown",
   "id": "aa2f7b73",
   "metadata": {},
   "source": [
    "#### Accessing items\n",
    "1. index(ele,beg,end):function returns the first index of the value mentioned in arguments, starting searching from beg till end index., gives error if not in given range(beg,end are optionals)\n",
    "2. insert(i,a): inserts the value mentioned in arguments(a) at index(i) specified in arguments., if i too large insert at the end.\n",
    "3. remove(element):deletes the first occurrence of the specified element in parameter/arguments., gives error if not present\n",
    "4. count(element): counts the number of occurrences of value mentioned in arguments., gives 0 if not present\n",
    "5. clear():Remove all elements from the deque leaving it with length 0.\n",
    "6. del: to delete the deque"
   ]
  },
  {
   "cell_type": "code",
   "execution_count": 57,
   "id": "f01c3775",
   "metadata": {},
   "outputs": [
    {
     "name": "stdout",
     "output_type": "stream",
     "text": [
      "deque([1, 2, 3, 2, 1, 4, 5])\n",
      "deque([1, 2, 3, 2, 1, 5])\n",
      "1\n",
      "deque([1, 2, 3, 2, 1, 5, 10])\n",
      "5\n",
      "deque([1, 2, 3, 2, 1, 5, 10])\n",
      "deque([1, 2, 3, 2, 1, 5, 10])\n",
      "deque([])\n"
     ]
    },
    {
     "ename": "NameError",
     "evalue": "name 'd' is not defined",
     "output_type": "error",
     "traceback": [
      "\u001b[1;31m---------------------------------------------------------------------------\u001b[0m",
      "\u001b[1;31mNameError\u001b[0m                                 Traceback (most recent call last)",
      "\u001b[1;32m<ipython-input-57-56a418539fcf>\u001b[0m in \u001b[0;36m<module>\u001b[1;34m\u001b[0m\n\u001b[0;32m     13\u001b[0m \u001b[0mprint\u001b[0m\u001b[1;33m(\u001b[0m\u001b[0md\u001b[0m\u001b[1;33m)\u001b[0m\u001b[1;33m\u001b[0m\u001b[1;33m\u001b[0m\u001b[0m\n\u001b[0;32m     14\u001b[0m \u001b[1;32mdel\u001b[0m \u001b[0md\u001b[0m\u001b[1;33m\u001b[0m\u001b[1;33m\u001b[0m\u001b[0m\n\u001b[1;32m---> 15\u001b[1;33m \u001b[0mprint\u001b[0m\u001b[1;33m(\u001b[0m\u001b[0md\u001b[0m\u001b[1;33m)\u001b[0m\u001b[1;33m\u001b[0m\u001b[1;33m\u001b[0m\u001b[0m\n\u001b[0m",
      "\u001b[1;31mNameError\u001b[0m: name 'd' is not defined"
     ]
    }
   ],
   "source": [
    "d=deque([1,2,3,2,1,4,5])\n",
    "print(d)\n",
    "d.remove(4)\n",
    "print(d)\n",
    "print(d.count(3))\n",
    "d.insert(15,10)        # i=15 to large insert at end.\n",
    "print(d)\n",
    "print(d.index(5,5,7))\n",
    "print(d)\n",
    "d.count(4)\n",
    "print(d)\n",
    "d.clear()\n",
    "print(d)\n",
    "del d\n",
    "print(d)"
   ]
  },
  {
   "cell_type": "markdown",
   "id": "63a3fbe4",
   "metadata": {},
   "source": [
    "#### Different Operations\n",
    "1. extend(iterable):to add multiple values at the right end of the deque. The argument passed is iterable.\n",
    "2. extendleft(iterable): to add multiple values at the left end of the deque. The argument passed is iterable. Order is reversed as a result of left appends.<br>\n",
    "<i>these both cannot take multiple values not in form of iterable.</i>\n",
    "3. reverse(): to reverse the order of deque elements.\n",
    "4. rotate():rotates the deque by the number specified in arguments. If the number specified is negative, rotation occurs to the left. Else rotation is to right."
   ]
  },
  {
   "cell_type": "code",
   "execution_count": 66,
   "id": "c2e162a5",
   "metadata": {},
   "outputs": [
    {
     "name": "stdout",
     "output_type": "stream",
     "text": [
      "deque([1, 2, 3, 4, 5, 6, 7])\n",
      "deque([-1, 0, 1, 2, 3, 4, 5, 6, 7])\n",
      "deque([7, 6, 5, 4, 3, 2, 1, 0, -1])\n",
      "deque([-1, 7, 6, 5, 4, 3, 2, 1, 0])\n",
      "deque([6, 5, 4, 3, 2, 1, 0, -1, 7])\n",
      "deque([-1, 7, 6, 5, 4, 3, 2, 1, 0])\n"
     ]
    }
   ],
   "source": [
    "d=deque([1,2,3,4,5])\n",
    "# d.extend(1,2,3) #error\n",
    "d.extend([6,7])\n",
    "print(d)\n",
    "d.extendleft([0,-1])  # first element is inserted first then second and so on.\n",
    "print(d)\n",
    "d.reverse()\n",
    "print(d)\n",
    "d.rotate()\n",
    "print(d)\n",
    "d.rotate(-2)      #number signifies how many number to be shifted\n",
    "print(d)\n",
    "d.rotate(2)\n",
    "print(d)  \n",
    "#equal negative and positive rotation will have same deque"
   ]
  },
  {
   "cell_type": "markdown",
   "id": "9554615d",
   "metadata": {},
   "source": [
    "#### Sequence like features of Deque\n",
    "1. using for loop:"
   ]
  },
  {
   "cell_type": "code",
   "execution_count": 67,
   "id": "20dec1b0",
   "metadata": {},
   "outputs": [
    {
     "name": "stdout",
     "output_type": "stream",
     "text": [
      "1\n",
      "2\n",
      "3\n"
     ]
    }
   ],
   "source": [
    "d=deque([1,2,3])\n",
    "for i in d:\n",
    "    print(i)"
   ]
  },
  {
   "cell_type": "markdown",
   "id": "baf2d3b4",
   "metadata": {},
   "source": [
    "2. operations:\n",
    "    1. multiplication\n",
    "    2. addition\n",
    "    3. membership\n",
    "    "
   ]
  },
  {
   "cell_type": "code",
   "execution_count": 73,
   "id": "354ab20e",
   "metadata": {},
   "outputs": [
    {
     "name": "stdout",
     "output_type": "stream",
     "text": [
      "deque([1, 2, 3, 1, 2, 3])\n",
      "deque([1, 2, 3, 1, 2, 3, 1, 2, 3])\n",
      "deque([1, 2, 3])\n",
      "True\n",
      "True\n"
     ]
    }
   ],
   "source": [
    "d=deque([1,2,3])\n",
    "print(d*2)\n",
    "print(d+d+d)\n",
    "print(d+deque())\n",
    "print(1 in d)\n",
    "print(5 not in d)"
   ]
  },
  {
   "cell_type": "code",
   "execution_count": null,
   "id": "18f27559",
   "metadata": {},
   "outputs": [],
   "source": []
  }
 ],
 "metadata": {
  "kernelspec": {
   "display_name": "Python 3",
   "language": "python",
   "name": "python3"
  },
  "language_info": {
   "codemirror_mode": {
    "name": "ipython",
    "version": 3
   },
   "file_extension": ".py",
   "mimetype": "text/x-python",
   "name": "python",
   "nbconvert_exporter": "python",
   "pygments_lexer": "ipython3",
   "version": "3.8.8"
  }
 },
 "nbformat": 4,
 "nbformat_minor": 5
}
